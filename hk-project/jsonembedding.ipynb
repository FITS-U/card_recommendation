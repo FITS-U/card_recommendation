{
 "cells": [
  {
   "cell_type": "code",
   "execution_count": 1,
   "metadata": {},
   "outputs": [
    {
     "data": {
      "text/plain": [
       "True"
      ]
     },
     "execution_count": 1,
     "metadata": {},
     "output_type": "execute_result"
    }
   ],
   "source": [
    "from dotenv import load_dotenv\n",
    "\n",
    "load_dotenv()"
   ]
  },
  {
   "cell_type": "code",
   "execution_count": 5,
   "metadata": {},
   "outputs": [
    {
     "name": "stdout",
     "output_type": "stream",
     "text": [
      "Total cards loaded: 305\n",
      "[{'Category': ['항공마일리지'], 'Title': ['대한항공 마일리지 적립 서비스'], 'More_Details': ['1. 기본서비스 : 1,500원당 1마일리지 무제한 적립', '· 국내외 전 가맹점(대한항공 마일리지 적립) : 1,500원당 1마일리지 적립 (월 적립 한도 없음)', '* 해외 결제 시 수수료가 발생할 수 있습니다.', '[적립 제외 대상]', '국세, 지방세, 수도/전기요금, 그외 공과금[우편요금, 여권 발급비용, 과태료, 범칙금, 벌금, 국가/공공기관/공공단체가 부과하는 부담금], 도시가스 요금, 아파트관리비, 국민연금/고용보험료/산재보험료/건강보험료 납부 금액, 스쿨뱅킹, 초.중.고 학교납입금, 대학등록금, 대학원등록금, 상품권 및 기프트카드 구매, 선불카드 및 선불전자지급수단(하나머니 등) 충전 금액, 부동산 임대료, 무이자할부 이용금액', '[서비스 제공 방법]', '마일리지 적립은 회원이 지정한 결제일에 따른 카드이용기간 중 이용금액(월 결제금액)에 대해 결제일로부터 10영업일 이내 항공사 회원번호로 적립됨(선결제, 즉시 결제 시에도 적립일은 변경되지 않음)', '마일리지는 청구 금액 기준으로 정상 납부된 금액에 대해 합산 적립되며, 미납된 금액은 적립 제외됨 (부분 납부 시 부분 적립)', '적립된 마일리지는 기 보유 중인 대한항공 마일리지와 합산되며, 마일리지 사용 및 소멸정책은 항공사의 마일리지 운영 기준을 따름', '후불교통요금 등 무승인거래(카드사의 승인없이 이용금액이 카드사에 접수됨)의 경우 매출이 접수된 월의 결제금액에 반영됨', '해외 매출은 최종 원화 청구금액 기준으로 적립에 반영됨', '2. 기간한정혜택 : 트래블로그 SKYPASS 시즌1 대한항공 마일리지 적립 안내', '· 시즌 1 서비스 기간 : 2024.7.22(월) ∼ 2024.12.31(화)', '· 업종에 따른 추가 마일리지 적립 서비스', '① 전가맹점', '- 국내외 전 가맹점 : 1,500원당 1.5마일리지 적립 / 월 결제한도 없음', '② 쇼핑', '-이커머스 : 쿠팡,G마켓, 옥션, 티몬, 마켓컬리 / 1,500원당 3마일리지 적립 / 월 결제한도 50만원', '③ 라이프', '- 구독 : 유튜브 프리미엄, 넷플릭스, 티빙, 쿠팡와우 / 1,500원당 3마일리지 적립 / 월 결제한도 50만원 (라이프 영역 통합 한도)', '- 커피 : 스타벅스, 커피빈, 투썸플레이스 / 1,500원당 3마일리지 적립 / 월 결제한도 50만원 (라이프 영역 통합 한도)', '- 편의점 : CU, GS25, 이마트24, 세븐일레븐 / 1,500원당 3마일리지 적립 / 월 결제한도 50만원 (라이프 영역 통합 한도)', '④ 트래블', '- 항공 : 대한항공, 아시아나항공, 진에어, 에어부산, 에어서울 / 1,500원당 3마일리지 적립 / 월 결제한도 100만원 (트래블 영역 통합 한도)', '- 면세 : 신라, 신세계, 롯데, 현대백화점 면세점 / 1,500원당 3마일리지 적립 / 월 결제한도 100만원 (트래블 영역 통합 한도)', '- 여행 : 하나카드 트래블 버킷 결제 / 1,500원당 3마일리지 적립 / 월 결제한도 100만원 (트래블 영역 통합 한도)', '* 라운지 : 더라운지 멤버스 / 전월실적 50만원 이상 이용 시 상시 제공 (연2회, 월1회)', '⑤ 기프트마일', '- 직전 6개월 무실적 회원 대상', '- 전일 50만원 이상 결제 시 1천 마일리지 3개월간 적립', '※ 월 결제한도 초과시 기본 카드 서비스 (1,500원당 1.5마일리지)로 적립', '※ 트래블로그 SKYPASS 시즌1혜택 적용 시기(‘24.7.22~’12.31) 이후, 1,500원당 1마일리지 기본서비스로 적립', '※ 트래블로그 마일리지 시즌1 서비스 중 전가맹점 1,500원당 1마일리지 적립 外 서비스는 서비스 기간에 따라 변동']}, {'Category': ['언제나할인'], 'Title': ['외화 하나머니 결제 시'], 'More_Details': ['외화 하나머니 결제 시, 해외 이용수수료 면제서비스', '▶ 해외 가맹점 이용 시 : 해외서비스 수수료 면제, 국제브랜드 수수료 면제', '▶ 해외 ATM 인출 시 : 해외서비스 수수료 면제, 국제브랜드 수수료 면제', '* 신용결제로 해외 이용 시 해외서비스 수수료 0.2%, 국제브랜드 수수료 1.0%가 부과', '* 신용결제로 해외 ATM 인출 시 결제계좌에서 인출되며, 해외서비스 수수료 건당 US $3, 국제브랜드수수료 1%가 부과', '[외화 하나머니 결제 안내]', '트래블로그 SKYPASS 신용카드는 “해외결제 설정을 외화 하나머니(체크결제) 또는 신용결제로 선택 가능한 카드＂로 한 장의 카드로 고객이 원하는 해외결제 방식을 변경할 수 있음', '외화 하나머니에 가입되어 있는 회원이라면 해외결제 설정 이용이 가능하며 외화 하나머니로 해외 이용 시 외화 하나머니 잔액이 즉시 차감됨', '외화 하나머니 잔액 부족 시 원화 하나머니 충전계좌에서 자동으로 충전하여 결제됨', '* 신용결제로 이용한 해외 일시불, 해외 단기카드대출(현금서비스)은 신용카드 결제계좌에서 결제일에 출금', '* 국내전용 카드로 발급한 경우 외화 하나머니 결제 불가', '* 해외 ATM 인출한도는 하나카드 홈페이지(www.hanacard.co.kr) 참고', '[해외결제 설정 방법 안내]', '· 해외결제 방법 : “외화하나머니” 또는 “신용결제“ 중 택1', '· 트래블로그 SKYPASS 신용카드 발급 시 해외결제 방식은 “외화 하나머니”결제로 자동 설정되며, 해외 이용 시 승인시점에 설정되어있는 해외결제 방식으로 결제', '▶ 해외결제수단 변경은 변경 즉시 적용', '경로 : 하나페이 > 내카드관리 > 트래블로그 SKYPASS 신용카드 > 해외결제', '해외에서 트래블로그 SKYPASS 신용카드 이용 시 승인 시점 설정된 해외결제 방식으로 이용', '[해외결제 이용시 유의 사항]', '트래블로그 SKYPASS 신용카드 발급 후 하나머니APP(앱)에 고객 본인 실명 계좌 등록 시 외화 하나머니를 충전하여 결제가 가능', '트래블로그 SKYPASS 신용카드의 국내 이용은 해외결제 설정과 관계없이 신용카드로 결제', '해외 외화 하나머니 결제는 국내 이용 불가', '해외 외화 하나머니 결제 시 일반 신용카드 가맹점에서 결제 가능하며, 일시불 및 해외 ATM 출금만 가능', '외화하나머니 결제 시 해외원화결제서비스(DCC) 이용 불가', '외화 하나머니 발행 통화 외 기타 통화 사용 시 국제브랜드사에서 정한 환율에 따라 미달러(USD)로 환산되어 외화 하나머니 (달러(USD)) 잔액에서 즉시 차감', '최종 이용대금은 매입일(이용대금이 카드사로 접수된 날짜) 기준으로 확정되므로, 승인 시점의 출금금액과 매입일의 매입금액간 차이가 발생하거나, 무승인 매입 (카드사의 승인없이 이용금액이 카드사로접수됨)의 경우 매입일 당일 외화 하나머니(이용 시점의 해당 통화)로 추가 출금 또는 환불', '[추가 출금 시점별 통화 및 적용 환율]', '▶ 1. (추가 출금 시점) 매입일부터 8영업일간', '1) 출금 통화 : 외화 하나머니 (이용 시점의 해당 통화)', '2) 적용 환율 : 해당사항 없음', '▶ 2. (추가 출금 시점) 9영업일부터', '1) 출금 통화 : 원화 하나머니', '2) 적용 환율 : 매입일의 하나은행 최초고시 전신환 매도율', '* 승인취소(매입되기 전)의 경우 외화 하나머니(이용 시점의 해당 통화)로 즉시 환불됨. 단, 매입 후 취소가 발생된 경우에는 취소전표가 카드사로 접수된 접수일 당일에 외화하나머니(이용 시점의 해당 통화)로 환불됨']}]\n"
     ]
    }
   ],
   "source": [
    "import json\n",
    "\n",
    "# 파일 경로\n",
    "file_path = \"C:/Users/user/Desktop/langchain-kr/hk-project/data/card_data456.json\"\n",
    "\n",
    "# 데이터 로드\n",
    "with open(file_path, \"r\", encoding=\"utf-8\") as file:\n",
    "    card_data456 = json.load(file)\n",
    "\n",
    "# 확인\n",
    "print(f\"Total cards loaded: {len(card_data456)}\")\n",
    "print(card_data456[\"0\"][\"Benefits\"])  # 첫 번째 카드 정보 출력"
   ]
  },
  {
   "cell_type": "code",
   "execution_count": 7,
   "metadata": {},
   "outputs": [
    {
     "name": "stderr",
     "output_type": "stream",
     "text": [
      "C:\\Users\\Public\\Documents\\ESTsoft\\CreatorTemp\\ipykernel_7756\\3892244753.py:7: LangChainDeprecationWarning: The class `OpenAIEmbeddings` was deprecated in LangChain 0.0.9 and will be removed in 1.0. An updated version of the class exists in the langchain-openai package and should be used instead. To use it run `pip install -U langchain-openai` and import as `from langchain_openai import OpenAIEmbeddings`.\n",
      "  embeddings = OpenAIEmbeddings()\n"
     ]
    },
    {
     "name": "stdout",
     "output_type": "stream",
     "text": [
      "ChromaDB 저장 완료.\n"
     ]
    },
    {
     "name": "stderr",
     "output_type": "stream",
     "text": [
      "C:\\Users\\Public\\Documents\\ESTsoft\\CreatorTemp\\ipykernel_7756\\3892244753.py:22: LangChainDeprecationWarning: Since Chroma 0.4.x the manual persistence method is no longer supported as docs are automatically persisted.\n",
      "  vectorstore.persist()\n"
     ]
    }
   ],
   "source": [
    "from langchain.embeddings.openai import OpenAIEmbeddings\n",
    "from langchain.vectorstores import Chroma\n",
    "import openai\n",
    "\n",
    "db_path = \"C:/Users/user/Desktop/langchain-kr/hk-project/chromaDB1\"\n",
    "\n",
    "embeddings = OpenAIEmbeddings()\n",
    "vectorstore = Chroma(persist_directory=db_path, embedding_function=embeddings)\n",
    "\n",
    "cardId = 1\n",
    "for index, card in card_data456.items():\n",
    "    document = f\"cardId: {cardId}\\nCard Name: {card['Card Name']}\\nAnnual Fee: {card['Annual_fee']}\\nBase Record: {card['Base Record']}\\nBenefits: {card['Benefits']}\"\n",
    "    metadata = {\"Card Name\": card[\"Card Name\"], \"Index\": index, \"cardId\": cardId}\n",
    "\n",
    "    # 벡터스토어에 추가\n",
    "    vectorstore.add_texts([document], metadatas=[metadata])\n",
    "    \n",
    "    # cardId 증가\n",
    "    cardId += 1\n",
    "\n",
    "# 저장\n",
    "vectorstore.persist()\n",
    "print(\"ChromaDB 저장 완료.\")"
   ]
  }
 ],
 "metadata": {
  "kernelspec": {
   "display_name": "langchain_env",
   "language": "python",
   "name": "python3"
  },
  "language_info": {
   "codemirror_mode": {
    "name": "ipython",
    "version": 3
   },
   "file_extension": ".py",
   "mimetype": "text/x-python",
   "name": "python",
   "nbconvert_exporter": "python",
   "pygments_lexer": "ipython3",
   "version": "3.11.10"
  }
 },
 "nbformat": 4,
 "nbformat_minor": 2
}
