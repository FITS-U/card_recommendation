{
 "cells": [
  {
   "cell_type": "code",
   "execution_count": 2,
   "metadata": {
    "colab": {
     "base_uri": "https://localhost:8080/"
    },
    "executionInfo": {
     "elapsed": 6990,
     "status": "ok",
     "timestamp": 1731559729691,
     "user": {
      "displayName": "장기모",
      "userId": "03691854765894054766"
     },
     "user_tz": -540
    },
    "id": "VWb7LB9eE7J7",
    "outputId": "d83b9530-89d1-4bfc-c463-01eacb6273ee"
   },
   "outputs": [
    {
     "name": "stdout",
     "output_type": "stream",
     "text": [
      "ChromaDB 로드 완료.\n"
     ]
    }
   ],
   "source": [
    "from langchain.embeddings.openai import OpenAIEmbeddings\n",
    "from langchain.vectorstores import Chroma\n",
    "\n",
    "# OpenAI API 키 설정\n",
    "import openai\n",
    "\n",
    "# ChromaDB 경로 설정\n",
    "db_path = \"C:/Users/user/Desktop/langchain-kr/hk-project/chromaDB\"  # 저장된 경로\n",
    "\n",
    "# 임베딩 함수 설정 (저장 당시와 동일한 임베딩 함수 사용)\n",
    "embeddings = OpenAIEmbeddings()\n",
    "\n",
    "# ChromaDB 로드\n",
    "vectorstore = Chroma(persist_directory=db_path, embedding_function=embeddings)\n",
    "\n",
    "print(\"ChromaDB 로드 완료.\")"
   ]
  },
  {
   "cell_type": "code",
   "execution_count": null,
   "metadata": {
    "colab": {
     "base_uri": "https://localhost:8080/"
    },
    "executionInfo": {
     "elapsed": 20146,
     "status": "ok",
     "timestamp": 1731472059462,
     "user": {
      "displayName": "장기모",
      "userId": "03691854765894054766"
     },
     "user_tz": -540
    },
    "id": "rhZUpO_YMWf0",
    "outputId": "74d97823-76eb-4b01-cbe8-0ac6b80c038c"
   },
   "outputs": [
    {
     "name": "stdout",
     "output_type": "stream",
     "text": [
      "각 카드의 혜택을 사용자 소비 내역과 연결하여 추천해 드리겠습니다.\n",
      "\n",
      "### 1. 삼성 iD MOVE 카드\n",
      "**연회비:** 국내 2만원, 해외 2만원  \n",
      "**혜택:** \n",
      "- 카페 10% 결제일 할인 (스타벅스, 이디야커피 등)\n",
      "- 편의점 10% 결제일 할인 (CU, GS25 등)\n",
      "\n",
      "**소비 내역과의 연결:** \n",
      "- 카페에서 45,000원을 소비하였으므로, 10% 할인 혜택을 통해 4,500원의 할인을 받을 수 있습니다.\n",
      "- 편의점에서 20,000원을 소비하였으므로, 10% 할인 혜택을 통해 2,000원의 할인을 받을 수 있습니다.\n",
      "- 총 할인 금액: 6,500원.\n",
      "\n",
      "이 카드의 연회비가 낮고, 카페와 편의점 이용에 적합한 혜택이 있어 추천합니다.\n",
      "\n",
      "### 2. D4카드의정석Ⅱ\n",
      "**연회비:** 국내 1만2천원, 해외 1만2천원  \n",
      "**혜택:**\n",
      "- 카페 55% 청구할인 (스타벅스, 투썸플레이스 등)\n",
      "- 편의점 11% 청구할인\n",
      "- 영화관 청구할인\n",
      "\n",
      "**소비 내역과의 연결:** \n",
      "- 카페에서 45,000원을 소비하였으므로, 55% 할인 혜택을 통해 24,750원의 할인을 받을 수 있습니다.\n",
      "- 편의점에서 20,000원을 소비하였으므로, 11% 할인 혜택을 통해 2,200원의 할인을 받을 수 있습니다.\n",
      "- 총 할인 금액: 26,950원.\n",
      "\n",
      "이 카드의 카페 할인 혜택이 매우 크기 때문에 추천합니다.\n",
      "\n",
      "### 3. 디지로카 Monaco 카드\n",
      "**연회비:** 국내 12만5천원, 해외 12만5천원  \n",
      "**혜택:** \n",
      "- 카페/베이커리 1% 할인\n",
      "- 편의점 1% 할인\n",
      "- 외식 1% 할인\n",
      "\n",
      "**소비 내역과의 연결:** \n",
      "- 카페에서 45,000원을 소비하였으므로, 1% 할인 혜택을 통해 450원의 할인을 받을 수 있습니다.\n",
      "- 편의점에서 20,000원을 소비하였으므로, 1% 할인 혜택을 통해 200원의 할인을 받을 수 있습니다.\n",
      "- 식당에서 80,000원을 소비하였으므로, 1% 할인 혜택을 통해 800원의 할인을 받을 수 있습니다.\n",
      "- 총 할인 금액: 1,450원.\n",
      "\n",
      "이 카드는 다양한 소비 카테고리에 대해 혜택을 제공하므로 활용도가 높습니다.\n",
      "\n",
      "### 결론\n",
      "- **삼성 iD MOVE 카드**: 카페와 편의점에서의 할인 혜택이 적합하여 추천.\n",
      "- **D4카드의정석Ⅱ**: 카페에서의 높은 할인율이 매우 매력적이며 추천.\n",
      "- **디지로카 Monaco 카드**: 다양한 카테고리에서 소액 혜택을 제공하므로 추천.\n",
      "\n",
      "각 카드의 혜택을 고려하여 본인의 소비 스타일에 맞는 카드를 선택하는 것이 좋습니다.\n"
     ]
    }
   ],
   "source": [
    "from langchain.chains import LLMChain\n",
    "from langchain.prompts import ChatPromptTemplate\n",
    "from langchain.chat_models import ChatOpenAI\n",
    "\n",
    "# 사용자 소비내역\n",
    "query = \"식당: 80000, 카페: 45000, 편의점: 20000\"\n",
    "\n",
    "# Retrieval\n",
    "retriever = vectorstore.as_retriever(\n",
    "    search_type='mmr',\n",
    "    search_kwargs={'k': 5, 'lambda_mult': 0.15}\n",
    ")\n",
    "\n",
    "# Prompt 설정\n",
    "prompt_template = ChatPromptTemplate.from_template(\n",
    "\"\"\"\n",
    "사용자 소비 내역은 다음과 같습니다:\n",
    "{question}\n",
    "\n",
    "위 소비 내역에 대해, 아래 카드 데이터 중에서 가장 적합한 카드 3개를 추천해주세요:\n",
    "{context}\n",
    "\n",
    "각 카드에 대해 소비 내역과 연결된 구체적인 혜택과 이유를 간단히 설명해주세요.\n",
    "혜택의 할인 한도를 초과하지 않도록 추천하세요.\n",
    "혜택 할인 한도를 알 수 없는 경우는 정확한 할인 금액은 제시하지 마세요.\n",
    "\"\"\"\n",
    ")\n",
    "\n",
    "# Model 설정\n",
    "llm = ChatOpenAI(model_name=\"gpt-4o-mini\", temperature=0.7)\n",
    "\n",
    "# Chain 생성\n",
    "chain = LLMChain(llm=llm, prompt=prompt_template)\n",
    "\n",
    "# 문서 검색 및 포맷팅\n",
    "docs = retriever.get_relevant_documents(query)\n",
    "context = \"\\n\\n\".join([doc.page_content for doc in docs])\n",
    "\n",
    "# 실행\n",
    "response = chain.run({\"context\": context, \"question\": query})\n",
    "print(response)\n"
   ]
  },
  {
   "cell_type": "code",
   "execution_count": null,
   "metadata": {
    "colab": {
     "base_uri": "https://localhost:8080/",
     "height": 654
    },
    "executionInfo": {
     "elapsed": 8533,
     "status": "error",
     "timestamp": 1731561510588,
     "user": {
      "displayName": "장기모",
      "userId": "03691854765894054766"
     },
     "user_tz": -540
    },
    "id": "5U2_VReIAMJn",
    "outputId": "6534f11d-debf-4748-983c-2857083521c6"
   },
   "outputs": [
    {
     "name": "stdout",
     "output_type": "stream",
     "text": [
      "추천 카드:\n",
      "- 카드명 : 디지로카 Monaco\n",
      "  - 연회비 : 국내 12만5천원, 해외 12만5천원, 가족 2만원\n",
      "  - 기준 실적 : 직전 1개월 합계 1백만원 이상\n",
      "  혜택\n",
      "  - 혜택 범위 : 주유, 통신, 외식, 온라인 쇼핑, 영화 등\n",
      "  - 혜택 상세 : 주유비 1% 할인, 온라인 쇼핑 이용 시 2% 결제일 할인. 영화 1% 할인, 편의점 및 카페 1% 할인 제공. 주유 리터당 70원 할인 가능 (50만원 이상 실적 시).\n",
      "\n",
      "- 카드명 : 아메리칸 익스프레스 블루 KB국민카드\n",
      "  - 연회비 : 국내 1만9천원, 해외 1만9천원\n",
      "  - 기준 실적 : 직전 1개월 합계 30만원 이상\n",
      "  혜택\n",
      "  - 혜택 범위 : 온라인 쇼핑, 주유, 영화, 카페 등\n",
      "  - 혜택 상세 : G마켓 등 온라인쇼핑 10% 할인, 주유 시 100원/L당 할인, 영화 티켓 5,000원 결제일 할인. 카페 아티제에서 커피 1+1 제공 서비스.\n",
      "\n",
      "- 카드명 : 삼성 iD AUTO 카드\n",
      "  - 연회비 : 국내 4만9천원, 해외 4만9천원\n",
      "  - 기준 실적 : 직전 1개월 합계 50만원 이상\n",
      "  혜택\n",
      "  - 혜택 범위 : 주유, 편의점, 영화, 대형마트 등\n",
      "  - 혜택 상세 : 주유 시 리터당 70원 할인 (50만원 이상 실적 시), 영화 티켓 5,000원 결제일 할인, 편의점 1.5% 결제일 할인. 대형마트 및 온라인쇼핑몰에서도 1.5% 할인 제공.\n"
     ]
    }
   ],
   "source": [
    "from langchain.chains import RetrievalQA\n",
    "from langchain.prompts import ChatPromptTemplate\n",
    "from langchain.chat_models import ChatOpenAI\n",
    "\n",
    "# 사용자 소비내역\n",
    "query = \"식당: 80000, 카페: 45000, 편의점: 20000, 주유: 130000, 온라인쇼핑: 200000, 영화: 14000\"\n",
    "\n",
    "# Retrieval\n",
    "retriever = vectorstore.as_retriever(\n",
    "    search_type='mmr',\n",
    "    search_kwargs={'k': 5, 'lambda_mult': 0.5}\n",
    ")\n",
    "\n",
    "# Prompt 설정\n",
    "prompt_template = ChatPromptTemplate.from_template(\n",
    "    \"\"\"\n",
    "    시스템 역할:\n",
    "    당신은 카드 추천 매니저입니다.\n",
    "    아래의 지시사항을 따르세요:\n",
    "    - 각 카드에 대해 소비 내역과 연결된 구체적인 혜택과 이유를 간단히 설명하세요.\n",
    "    - 혜택의 할인 한도를 초과하지 않도록 추천하세요.\n",
    "    - 혜택 할인 한도를 알 수 없는 경우는 정확한 할인 금액은 제시하지 마세요.\n",
    "\n",
    "    예시 형식:\n",
    "        - 카드명 : 현대카드M\n",
    "        - 연회비 : 국내 3만원, 해외 3만원, 가족 1만원\n",
    "        - 기준 실적 : 직전 1개월 합계 50만원 이상\n",
    "        혜택\n",
    "        - 혜택 범위 : 주유, 통신, 대중교통 등\n",
    "        - 혜택 상세 : 혜택 요약된 결과\n",
    "\n",
    "        - 카드명 : 신한카드 처음\n",
    "        - 연회비 : 국내 1만5천원, 해외 1만8천원\n",
    "        - 기준 실적 : 직전 1개월 합계 30만원 이상\n",
    "        혜택\n",
    "        - 혜택 범위 : 통신, 외식, 편의점 등\n",
    "        - 혜택 상세 : 혜택 요약된 결과\n",
    "\n",
    "        - 카드명 : LOCA Professional\n",
    "        - 연회비 : 국내 30만원, 해외 30만원, 가족 5만원\n",
    "        - 기준 실적 : 조건없음\n",
    "        혜택\n",
    "        - 혜택 범위 : 영화, 쇼핑, 대형마트 등\n",
    "        - 혜택 상세 : 혜택 요약된 결과\n",
    "\n",
    "    유저 역할:\n",
    "    사용자 소비 내역:\n",
    "    {question}\n",
    "\n",
    "    카드 데이터:\n",
    "    {context}\n",
    "\n",
    "    위 데이터를 기반으로 가장 적합한 카드 3개를 추천하고, 각 카드의 설명을 위의 형식에 맞게 작성하세요.\n",
    "    \"\"\"\n",
    ")\n",
    "\n",
    "# Model 설정\n",
    "llm = ChatOpenAI(model_name=\"gpt-4o-mini\", temperature=0.7)\n",
    "\n",
    "# RetrievalQA 체인 생성\n",
    "rag_chain = RetrievalQA.from_chain_type(\n",
    "    llm=llm,\n",
    "    retriever=retriever,\n",
    "    return_source_documents=False,\n",
    "    chain_type_kwargs={\"prompt\": prompt_template, \"document_variable_name\": \"context\"}\n",
    ")\n",
    "\n",
    "# 실행\n",
    "response = rag_chain({\"query\": query})\n",
    "\n",
    "# 결과 출력\n",
    "print(\"추천 카드:\")\n",
    "print(response[\"result\"])\n",
    "\n",
    "# 참고 문서도 보고 싶으면 return_source_documents=True로 주고 아래 코드 활성화\n",
    "# print(\"\\n참고 문서:\")\n",
    "# for doc in response[\"source_documents\"]:\n",
    "#     print(doc.page_content)\n"
   ]
  }
 ],
 "metadata": {
  "colab": {
   "authorship_tag": "ABX9TyNmv1rW9Zs1UONdK/nHqQnp",
   "mount_file_id": "19reByDc7W_VtHUKYKO3Il-SdRNfGNNmS",
   "provenance": []
  },
  "kernelspec": {
   "display_name": "langchain_env",
   "language": "python",
   "name": "python3"
  },
  "language_info": {
   "codemirror_mode": {
    "name": "ipython",
    "version": 3
   },
   "file_extension": ".py",
   "mimetype": "text/x-python",
   "name": "python",
   "nbconvert_exporter": "python",
   "pygments_lexer": "ipython3",
   "version": "3.11.10"
  }
 },
 "nbformat": 4,
 "nbformat_minor": 0
}
